{
 "cells": [
  {
   "cell_type": "code",
   "execution_count": 1,
   "id": "6c1031a4",
   "metadata": {
    "_cell_guid": "b1076dfc-b9ad-4769-8c92-a6c4dae69d19",
    "_uuid": "8f2839f25d086af736a60e9eeb907d3b93b6e0e5",
    "execution": {
     "iopub.execute_input": "2023-05-13T14:03:51.496579Z",
     "iopub.status.busy": "2023-05-13T14:03:51.496102Z",
     "iopub.status.idle": "2023-05-13T14:04:00.089951Z",
     "shell.execute_reply": "2023-05-13T14:04:00.088572Z"
    },
    "papermill": {
     "duration": 8.604098,
     "end_time": "2023-05-13T14:04:00.093152",
     "exception": false,
     "start_time": "2023-05-13T14:03:51.489054",
     "status": "completed"
    },
    "tags": []
   },
   "outputs": [],
   "source": [
    "from tensorflow.keras.layers import Input, Lambda, Dense, Flatten , Dropout\n",
    "from tensorflow.keras.models import Model\n",
    "# from tensorflow.keras.applications.resnet import ResNet50\n",
    "from keras.applications.vgg19 import VGG19\n",
    "# from tensorflow.keras.applications.inception_resnet_v2 import InceptionResNetV2\n",
    "from tensorflow.keras.applications.vgg19 import preprocess_input\n",
    "from tensorflow.keras.preprocessing import image\n",
    "from tensorflow.keras.preprocessing.image import ImageDataGenerator\n",
    "from tensorflow.keras.models import Sequential\n",
    "import numpy as np\n",
    "from glob import glob\n",
    "import matplotlib.pyplot as plt"
   ]
  },
  {
   "cell_type": "code",
   "execution_count": 2,
   "id": "57e4f69b",
   "metadata": {
    "execution": {
     "iopub.execute_input": "2023-05-13T14:04:00.103682Z",
     "iopub.status.busy": "2023-05-13T14:04:00.102993Z",
     "iopub.status.idle": "2023-05-13T14:04:00.108361Z",
     "shell.execute_reply": "2023-05-13T14:04:00.107256Z"
    },
    "papermill": {
     "duration": 0.013085,
     "end_time": "2023-05-13T14:04:00.110727",
     "exception": false,
     "start_time": "2023-05-13T14:04:00.097642",
     "status": "completed"
    },
    "tags": []
   },
   "outputs": [],
   "source": [
    "IMAGE_SIZE = [224, 224]\n",
    "\n",
    "train_path = '/kaggle/input/train-n'\n",
    "valid_path = '/kaggle/input/test-n'"
   ]
  },
  {
   "cell_type": "code",
   "execution_count": 3,
   "id": "22ee9bf8",
   "metadata": {
    "execution": {
     "iopub.execute_input": "2023-05-13T14:04:00.119993Z",
     "iopub.status.busy": "2023-05-13T14:04:00.119691Z",
     "iopub.status.idle": "2023-05-13T14:04:05.036612Z",
     "shell.execute_reply": "2023-05-13T14:04:05.035534Z"
    },
    "papermill": {
     "duration": 4.92503,
     "end_time": "2023-05-13T14:04:05.039741",
     "exception": false,
     "start_time": "2023-05-13T14:04:00.114711",
     "status": "completed"
    },
    "tags": []
   },
   "outputs": [
    {
     "name": "stdout",
     "output_type": "stream",
     "text": [
      "Downloading data from https://storage.googleapis.com/tensorflow/keras-applications/vgg19/vgg19_weights_tf_dim_ordering_tf_kernels_notop.h5\n",
      "80134624/80134624 [==============================] - 1s 0us/step\n"
     ]
    }
   ],
   "source": [
    "# add preprocessing layer to the front of VGG\n",
    "r = VGG19(input_shape=IMAGE_SIZE + [3], weights='imagenet', include_top=False)\n"
   ]
  },
  {
   "cell_type": "code",
   "execution_count": 4,
   "id": "0f1a25e9",
   "metadata": {
    "execution": {
     "iopub.execute_input": "2023-05-13T14:04:05.051926Z",
     "iopub.status.busy": "2023-05-13T14:04:05.051566Z",
     "iopub.status.idle": "2023-05-13T14:04:05.057459Z",
     "shell.execute_reply": "2023-05-13T14:04:05.056369Z"
    },
    "papermill": {
     "duration": 0.01466,
     "end_time": "2023-05-13T14:04:05.059833",
     "exception": false,
     "start_time": "2023-05-13T14:04:05.045173",
     "status": "completed"
    },
    "tags": []
   },
   "outputs": [],
   "source": [
    "# don't train existing weights\n",
    "for layer in r.layers:\n",
    "  layer.trainable = False\n",
    "  "
   ]
  },
  {
   "cell_type": "code",
   "execution_count": 5,
   "id": "212f6a88",
   "metadata": {
    "execution": {
     "iopub.execute_input": "2023-05-13T14:04:05.071984Z",
     "iopub.status.busy": "2023-05-13T14:04:05.071667Z",
     "iopub.status.idle": "2023-05-13T14:04:05.079494Z",
     "shell.execute_reply": "2023-05-13T14:04:05.078480Z"
    },
    "papermill": {
     "duration": 0.01703,
     "end_time": "2023-05-13T14:04:05.082052",
     "exception": false,
     "start_time": "2023-05-13T14:04:05.065022",
     "status": "completed"
    },
    "tags": []
   },
   "outputs": [],
   "source": [
    "  # useful for getting number of classes\n",
    "folders = glob('/kaggle/input/train-n/*')"
   ]
  },
  {
   "cell_type": "code",
   "execution_count": 6,
   "id": "2741ec33",
   "metadata": {
    "execution": {
     "iopub.execute_input": "2023-05-13T14:04:05.093208Z",
     "iopub.status.busy": "2023-05-13T14:04:05.092919Z",
     "iopub.status.idle": "2023-05-13T14:04:05.119881Z",
     "shell.execute_reply": "2023-05-13T14:04:05.118940Z"
    },
    "papermill": {
     "duration": 0.035099,
     "end_time": "2023-05-13T14:04:05.122133",
     "exception": false,
     "start_time": "2023-05-13T14:04:05.087034",
     "status": "completed"
    },
    "tags": []
   },
   "outputs": [],
   "source": [
    "# our layers - you can add more if you want\n",
    "x = Flatten()(r.output)\n",
    "# x = Dense(256, activation='relu')(x)\n",
    "# x = Dropout(0.2)(x)\n",
    "# x = Dense(256, activation='relu')(x)\n",
    "# x = Dense(64, activation='relu')(x)\n",
    "prediction = Dense(len(folders), activation='softmax')(x)"
   ]
  },
  {
   "cell_type": "code",
   "execution_count": 7,
   "id": "a8b1661f",
   "metadata": {
    "execution": {
     "iopub.execute_input": "2023-05-13T14:04:05.134773Z",
     "iopub.status.busy": "2023-05-13T14:04:05.134228Z",
     "iopub.status.idle": "2023-05-13T14:04:05.189834Z",
     "shell.execute_reply": "2023-05-13T14:04:05.189013Z"
    },
    "papermill": {
     "duration": 0.104924,
     "end_time": "2023-05-13T14:04:05.232855",
     "exception": false,
     "start_time": "2023-05-13T14:04:05.127931",
     "status": "completed"
    },
    "tags": []
   },
   "outputs": [
    {
     "name": "stdout",
     "output_type": "stream",
     "text": [
      "Model: \"model\"\n",
      "_________________________________________________________________\n",
      " Layer (type)                Output Shape              Param #   \n",
      "=================================================================\n",
      " input_1 (InputLayer)        [(None, 224, 224, 3)]     0         \n",
      "                                                                 \n",
      " block1_conv1 (Conv2D)       (None, 224, 224, 64)      1792      \n",
      "                                                                 \n",
      " block1_conv2 (Conv2D)       (None, 224, 224, 64)      36928     \n",
      "                                                                 \n",
      " block1_pool (MaxPooling2D)  (None, 112, 112, 64)      0         \n",
      "                                                                 \n",
      " block2_conv1 (Conv2D)       (None, 112, 112, 128)     73856     \n",
      "                                                                 \n",
      " block2_conv2 (Conv2D)       (None, 112, 112, 128)     147584    \n",
      "                                                                 \n",
      " block2_pool (MaxPooling2D)  (None, 56, 56, 128)       0         \n",
      "                                                                 \n",
      " block3_conv1 (Conv2D)       (None, 56, 56, 256)       295168    \n",
      "                                                                 \n",
      " block3_conv2 (Conv2D)       (None, 56, 56, 256)       590080    \n",
      "                                                                 \n",
      " block3_conv3 (Conv2D)       (None, 56, 56, 256)       590080    \n",
      "                                                                 \n",
      " block3_conv4 (Conv2D)       (None, 56, 56, 256)       590080    \n",
      "                                                                 \n",
      " block3_pool (MaxPooling2D)  (None, 28, 28, 256)       0         \n",
      "                                                                 \n",
      " block4_conv1 (Conv2D)       (None, 28, 28, 512)       1180160   \n",
      "                                                                 \n",
      " block4_conv2 (Conv2D)       (None, 28, 28, 512)       2359808   \n",
      "                                                                 \n",
      " block4_conv3 (Conv2D)       (None, 28, 28, 512)       2359808   \n",
      "                                                                 \n",
      " block4_conv4 (Conv2D)       (None, 28, 28, 512)       2359808   \n",
      "                                                                 \n",
      " block4_pool (MaxPooling2D)  (None, 14, 14, 512)       0         \n",
      "                                                                 \n",
      " block5_conv1 (Conv2D)       (None, 14, 14, 512)       2359808   \n",
      "                                                                 \n",
      " block5_conv2 (Conv2D)       (None, 14, 14, 512)       2359808   \n",
      "                                                                 \n",
      " block5_conv3 (Conv2D)       (None, 14, 14, 512)       2359808   \n",
      "                                                                 \n",
      " block5_conv4 (Conv2D)       (None, 14, 14, 512)       2359808   \n",
      "                                                                 \n",
      " block5_pool (MaxPooling2D)  (None, 7, 7, 512)         0         \n",
      "                                                                 \n",
      " flatten (Flatten)           (None, 25088)             0         \n",
      "                                                                 \n",
      " dense (Dense)               (None, 4)                 100356    \n",
      "                                                                 \n",
      "=================================================================\n",
      "Total params: 20,124,740\n",
      "Trainable params: 100,356\n",
      "Non-trainable params: 20,024,384\n",
      "_________________________________________________________________\n"
     ]
    }
   ],
   "source": [
    "# create a model object\n",
    "model = Model(inputs=r.input, outputs=prediction)\n",
    "\n",
    "# view the structure of the model\n",
    "model.summary()"
   ]
  },
  {
   "cell_type": "code",
   "execution_count": 8,
   "id": "3bbed30d",
   "metadata": {
    "execution": {
     "iopub.execute_input": "2023-05-13T14:04:05.252373Z",
     "iopub.status.busy": "2023-05-13T14:04:05.252053Z",
     "iopub.status.idle": "2023-05-13T14:04:05.269544Z",
     "shell.execute_reply": "2023-05-13T14:04:05.268531Z"
    },
    "papermill": {
     "duration": 0.029821,
     "end_time": "2023-05-13T14:04:05.271757",
     "exception": false,
     "start_time": "2023-05-13T14:04:05.241936",
     "status": "completed"
    },
    "tags": []
   },
   "outputs": [],
   "source": [
    "# tell the model what cost and optimization method to use\n",
    "model.compile(\n",
    "  loss='categorical_crossentropy',\n",
    "  optimizer='adam',\n",
    "  metrics=['accuracy']\n",
    ")"
   ]
  },
  {
   "cell_type": "code",
   "execution_count": 9,
   "id": "5531af5d",
   "metadata": {
    "execution": {
     "iopub.execute_input": "2023-05-13T14:04:05.291851Z",
     "iopub.status.busy": "2023-05-13T14:04:05.291001Z",
     "iopub.status.idle": "2023-05-13T14:04:06.352102Z",
     "shell.execute_reply": "2023-05-13T14:04:06.351026Z"
    },
    "papermill": {
     "duration": 1.074422,
     "end_time": "2023-05-13T14:04:06.355235",
     "exception": false,
     "start_time": "2023-05-13T14:04:05.280813",
     "status": "completed"
    },
    "tags": []
   },
   "outputs": [
    {
     "name": "stdout",
     "output_type": "stream",
     "text": [
      "Found 3706 images belonging to 4 classes.\n",
      "Found 748 images belonging to 4 classes.\n"
     ]
    }
   ],
   "source": [
    "from keras.preprocessing.image import ImageDataGenerator\n",
    "\n",
    "train_datagen = ImageDataGenerator(rescale = 1./255,\n",
    "                                   shear_range = 0.2,\n",
    "                                   zoom_range = 0.2,\n",
    "                                   horizontal_flip = True)\n",
    "\n",
    "test_datagen = ImageDataGenerator(rescale = 1./255)\n",
    "\n",
    "training_set = train_datagen.flow_from_directory('/kaggle/input/train-n',\n",
    "                                                 target_size = (224, 224),\n",
    "                                                 batch_size = 32,\n",
    "                                                 class_mode = 'categorical')\n",
    "\n",
    "test_set = test_datagen.flow_from_directory('/kaggle/input/test-n',\n",
    "                                            target_size = (224, 224),\n",
    "                                            batch_size = 32,\n",
    "                                            class_mode = 'categorical')\n"
   ]
  },
  {
   "cell_type": "code",
   "execution_count": 10,
   "id": "78ec1416",
   "metadata": {
    "execution": {
     "iopub.execute_input": "2023-05-13T14:04:06.384357Z",
     "iopub.status.busy": "2023-05-13T14:04:06.383935Z",
     "iopub.status.idle": "2023-05-13T14:13:58.362167Z",
     "shell.execute_reply": "2023-05-13T14:13:58.361029Z"
    },
    "papermill": {
     "duration": 591.99575,
     "end_time": "2023-05-13T14:13:58.365237",
     "exception": false,
     "start_time": "2023-05-13T14:04:06.369487",
     "status": "completed"
    },
    "tags": []
   },
   "outputs": [
    {
     "name": "stderr",
     "output_type": "stream",
     "text": [
      "/opt/conda/lib/python3.7/site-packages/ipykernel_launcher.py:7: UserWarning: `Model.fit_generator` is deprecated and will be removed in a future version. Please use `Model.fit`, which supports generators.\n",
      "  import sys\n"
     ]
    },
    {
     "name": "stdout",
     "output_type": "stream",
     "text": [
      "Epoch 1/10\n",
      "116/116 [==============================] - 77s 543ms/step - loss: 1.3445 - accuracy: 0.4962 - val_loss: 1.2342 - val_accuracy: 0.5201\n",
      "Epoch 2/10\n",
      "116/116 [==============================] - 49s 423ms/step - loss: 0.8614 - accuracy: 0.6560 - val_loss: 1.2071 - val_accuracy: 0.5455\n",
      "Epoch 3/10\n",
      "116/116 [==============================] - 50s 427ms/step - loss: 0.8252 - accuracy: 0.6692 - val_loss: 1.0919 - val_accuracy: 0.5936\n",
      "Epoch 4/10\n",
      "116/116 [==============================] - 50s 434ms/step - loss: 0.7573 - accuracy: 0.7035 - val_loss: 1.4887 - val_accuracy: 0.5495\n",
      "Epoch 5/10\n",
      "116/116 [==============================] - 49s 425ms/step - loss: 0.6890 - accuracy: 0.7275 - val_loss: 1.1734 - val_accuracy: 0.6136\n",
      "Epoch 6/10\n",
      "116/116 [==============================] - 51s 436ms/step - loss: 0.6695 - accuracy: 0.7326 - val_loss: 1.2376 - val_accuracy: 0.5936\n",
      "Epoch 7/10\n",
      "116/116 [==============================] - 51s 442ms/step - loss: 0.6419 - accuracy: 0.7472 - val_loss: 1.6086 - val_accuracy: 0.5882\n",
      "Epoch 8/10\n",
      "116/116 [==============================] - 50s 431ms/step - loss: 0.6150 - accuracy: 0.7612 - val_loss: 1.2076 - val_accuracy: 0.6043\n",
      "Epoch 9/10\n",
      "116/116 [==============================] - 50s 431ms/step - loss: 0.5543 - accuracy: 0.7890 - val_loss: 1.1824 - val_accuracy: 0.5762\n",
      "Epoch 10/10\n",
      "116/116 [==============================] - 50s 428ms/step - loss: 0.5551 - accuracy: 0.7901 - val_loss: 1.3121 - val_accuracy: 0.6123\n"
     ]
    }
   ],
   "source": [
    "# fit the model\n",
    "r = model.fit_generator(\n",
    "  training_set,\n",
    "  validation_data=test_set,\n",
    "  epochs=10,\n",
    "  steps_per_epoch=len(training_set),\n",
    "  validation_steps=len(test_set)\n",
    ")"
   ]
  },
  {
   "cell_type": "code",
   "execution_count": 11,
   "id": "e4fcb38c",
   "metadata": {
    "execution": {
     "iopub.execute_input": "2023-05-13T14:13:58.564432Z",
     "iopub.status.busy": "2023-05-13T14:13:58.563137Z",
     "iopub.status.idle": "2023-05-13T14:13:58.812118Z",
     "shell.execute_reply": "2023-05-13T14:13:58.811058Z"
    },
    "papermill": {
     "duration": 0.351413,
     "end_time": "2023-05-13T14:13:58.814549",
     "exception": false,
     "start_time": "2023-05-13T14:13:58.463136",
     "status": "completed"
    },
    "tags": []
   },
   "outputs": [
    {
     "data": {
      "image/png": "[encoded data removed]",
      "text/plain": [
       "<Figure size 640x480 with 1 Axes>"
      ]
     },
     "metadata": {},
     "output_type": "display_data"
    },
    {
     "data": {
      "text/plain": [
       "<Figure size 640x480 with 0 Axes>"
      ]
     },
     "metadata": {},
     "output_type": "display_data"
    }
   ],
   "source": [
    "# loss\n",
    "plt.plot(r.history['loss'], label='train loss')\n",
    "plt.plot(r.history['val_loss'], label='val loss')\n",
    "plt.legend()\n",
    "plt.show()\n",
    "plt.savefig('LossVal_loss')"
   ]
  },
  {
   "cell_type": "code",
   "execution_count": 12,
   "id": "460565c8",
   "metadata": {
    "execution": {
     "iopub.execute_input": "2023-05-13T14:13:59.013370Z",
     "iopub.status.busy": "2023-05-13T14:13:59.012382Z",
     "iopub.status.idle": "2023-05-13T14:13:59.249406Z",
     "shell.execute_reply": "2023-05-13T14:13:59.248320Z"
    },
    "papermill": {
     "duration": 0.338578,
     "end_time": "2023-05-13T14:13:59.251914",
     "exception": false,
     "start_time": "2023-05-13T14:13:58.913336",
     "status": "completed"
    },
    "tags": []
   },
   "outputs": [
    {
     "data": {
      "image/png": "[encoded data removed]",
      "text/plain": [
       "<Figure size 640x480 with 1 Axes>"
      ]
     },
     "metadata": {},
     "output_type": "display_data"
    },
    {
     "data": {
      "text/plain": [
       "<Figure size 640x480 with 0 Axes>"
      ]
     },
     "metadata": {},
     "output_type": "display_data"
    }
   ],
   "source": [
    "# accuracies\n",
    "plt.plot(r.history['accuracy'], label='train accuracy')\n",
    "plt.plot(r.history['val_accuracy'], label='val accuracy')\n",
    "plt.legend()\n",
    "plt.show()\n",
    "plt.savefig('AccVal_acc')"
   ]
  },
  {
   "cell_type": "code",
   "execution_count": 13,
   "id": "91fd254f",
   "metadata": {
    "execution": {
     "iopub.execute_input": "2023-05-13T14:13:59.455298Z",
     "iopub.status.busy": "2023-05-13T14:13:59.454639Z",
     "iopub.status.idle": "2023-05-13T14:13:59.608115Z",
     "shell.execute_reply": "2023-05-13T14:13:59.607038Z"
    },
    "papermill": {
     "duration": 0.257456,
     "end_time": "2023-05-13T14:13:59.610901",
     "exception": false,
     "start_time": "2023-05-13T14:13:59.353445",
     "status": "completed"
    },
    "tags": []
   },
   "outputs": [],
   "source": [
    "import tensorflow as tf\n",
    "from keras.models import load_model\n",
    "model.save('model1.h5')"
   ]
  }
 ],
 "metadata": {
  "kernelspec": {
   "display_name": "Python 3",
   "language": "python",
   "name": "python3"
  },
  "language_info": {
   "codemirror_mode": {
    "name": "ipython",
    "version": 3
   },
   "file_extension": ".py",
   "mimetype": "text/x-python",
   "name": "python",
   "nbconvert_exporter": "python",
   "pygments_lexer": "ipython3",
   "version": "3.7.12"
  },
  "papermill": {
   "default_parameters": {},
   "duration": 623.543303,
   "end_time": "2023-05-13T14:14:02.764519",
   "environment_variables": {},
   "exception": null,
   "input_path": "__notebook__.ipynb",
   "output_path": "__notebook__.ipynb",
   "parameters": {},
   "start_time": "2023-05-13T14:03:39.221216",
   "version": "2.4.0"
  }
 },
 "nbformat": 4,
 "nbformat_minor": 5
}
